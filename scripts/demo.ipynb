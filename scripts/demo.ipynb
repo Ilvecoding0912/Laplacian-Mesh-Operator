{
 "cells": [
  {
   "cell_type": "code",
   "execution_count": 1,
   "metadata": {},
   "outputs": [
    {
     "name": "stderr",
     "output_type": "stream",
     "text": [
      "d:\\software\\anaconda\\lib\\site-packages\\pyglet\\libs\\win32\\__init__.py:326: UserWarning: Could not set COM MTA mode. Unexpected behavior may occur.\n",
      "  warnings.warn(\"Could not set COM MTA mode. Unexpected behavior may occur.\")\n"
     ]
    },
    {
     "name": "stdout",
     "output_type": "stream",
     "text": [
      "Jupyter environment detected. Enabling Open3D WebVisualizer.\n",
      "[Open3D INFO] WebRTC GUI backend enabled.\n",
      "[Open3D INFO] WebRTCWindowSystem: HTTP handshake server disabled.\n"
     ]
    }
   ],
   "source": [
    "import sys,os\n",
    "import numpy as np\n",
    "import trimesh\n",
    "import pyrender\n",
    "import matplotlib.pyplot as plt\n",
    "from sklearn.neighbors import KDTree\n",
    "import open3d as o3d\n",
    "from utils.tools import *\n",
    "import scipy\n",
    "import scipy.sparse.linalg\n",
    "import scipy.signal"
   ]
  },
  {
   "attachments": {},
   "cell_type": "markdown",
   "metadata": {},
   "source": [
    "1. Uniform Laplace\n",
    "\n",
    "Mean Curvature and Gaussian Curvature"
   ]
  },
  {
   "cell_type": "code",
   "execution_count": 2,
   "metadata": {},
   "outputs": [],
   "source": [
    "curve_path = '../data/meshes/curvatures/'\n",
    "mesh_path = '../data/meshes/'\n",
    "\n",
    "path_plane = curve_path + 'plane.obj'\n",
    "path_lilium = curve_path + 'lilium_s.obj'\n",
    "path_bumpy_cube = mesh_path + 'bumpy-cube.obj'"
   ]
  },
  {
   "cell_type": "code",
   "execution_count": 3,
   "metadata": {},
   "outputs": [
    {
     "name": "stdout",
     "output_type": "stream",
     "text": [
      "Current path: ../data/meshes/curvatures/plane.obj\n",
      "\n",
      "\n",
      "The range of curvature: 0.000, 0.000\n",
      "The range of curvature: 0.000, 0.000\n",
      "Current path: ../data/meshes/curvatures/lilium_s.obj\n",
      "\n",
      "\n",
      "The range of curvature: 0.000, 0.036\n",
      "The range of curvature: -8.997, 8.564\n",
      "Current path: ../data/meshes/bumpy-cube.obj\n",
      "\n",
      "\n",
      "The range of curvature: 0.000, 0.005\n",
      "The range of curvature: -1.346, 5.273\n"
     ]
    }
   ],
   "source": [
    "for path in [path_plane, path_lilium, path_bumpy_cube]:\n",
    "    print('Current path:', path)    \n",
    "    tm = trimesh.load_mesh(path) \n",
    "    dc = DiscreteCurvature(tm)\n",
    "\n",
    "    H = dc.compute_curvature('mean')\n",
    "    K = dc.compute_curvature('gaussian')\n",
    "    \n",
    "    print('\\n')\n",
    "    dc.show(H)\n",
    "    dc.show(K)"
   ]
  },
  {
   "attachments": {},
   "cell_type": "markdown",
   "metadata": {},
   "source": [
    "3. Non-uniform (Discrete Laplace-Beltrami)"
   ]
  },
  {
   "cell_type": "code",
   "execution_count": 4,
   "metadata": {},
   "outputs": [
    {
     "name": "stdout",
     "output_type": "stream",
     "text": [
      "Current path: ../data/meshes/curvatures/plane.obj\n",
      "The range of curvature: 0.000, 0.000\n",
      "\n",
      "\n",
      "Current path: ../data/meshes/curvatures/lilium_s.obj\n",
      "The range of curvature: 0.009, 4.485\n",
      "\n",
      "\n",
      "Current path: ../data/meshes/bumpy-cube.obj\n",
      "The range of curvature: 0.001, 2.546\n",
      "\n",
      "\n"
     ]
    }
   ],
   "source": [
    "for path in [path_plane, path_lilium, path_bumpy_cube]:   \n",
    "    print('Current path:', path)     \n",
    "    tm = trimesh.load_mesh(path) \n",
    "    dc = DiscreteCurvature(tm)\n",
    "\n",
    "    H_cot = dc.compute_curvature('non-uniform')\n",
    "    dc.show(H_cot)\n",
    "    print('\\n')"
   ]
  },
  {
   "attachments": {},
   "cell_type": "markdown",
   "metadata": {},
   "source": [
    "4. Modal analysis (Decomposition)"
   ]
  },
  {
   "cell_type": "code",
   "execution_count": 5,
   "metadata": {},
   "outputs": [],
   "source": [
    "path_decomp = '../data/meshes/decomposition'\n",
    "path_armadillo = path_decomp + '/armadillo.obj'\n",
    "path_dec_cow = path_decomp + '/cow_small_manifold2.obj'\n",
    "\n",
    "tm = trimesh.load_mesh(path_armadillo) \n",
    "dc = DiscreteCurvature(tm)"
   ]
  },
  {
   "cell_type": "code",
   "execution_count": 11,
   "metadata": {},
   "outputs": [
    {
     "name": "stdout",
     "output_type": "stream",
     "text": [
      "k: 5\n",
      "k: 15\n",
      "k: 35\n",
      "k: 65\n",
      "k: 500\n",
      "k: 1000\n"
     ]
    }
   ],
   "source": [
    "k_list = [5, 15, 35, 65, 500, 1000]\n",
    "for path in [path_armadillo]:\n",
    "    tm = trimesh.load_mesh(path) \n",
    "    dc = DiscreteCurvature(tm)\n",
    "    \n",
    "    for k in k_list:\n",
    "        print('k:', k)\n",
    "        reconstruct_tm = dc.reconstruct(k)\n",
    "        reconstruct_tm.export('../results/armadillo'+str(k)+'.obj')\n",
    "        \n",
    "        recon_mesh = dc.tm2o3d(reconstruct_tm)\n",
    "        o3d.visualization.draw_geometries([recon_mesh])"
   ]
  },
  {
   "attachments": {},
   "cell_type": "markdown",
   "metadata": {},
   "source": [
    "Laplacian Mesh Smoothing\n",
    "\n",
    "5. Explicit Laplacian Mesh Smoothing"
   ]
  },
  {
   "cell_type": "code",
   "execution_count": 14,
   "metadata": {},
   "outputs": [],
   "source": [
    "path_plane = '../data/meshes/smoothing/plane_ns.obj'\n",
    "path_fandisk = '../data/meshes/smoothing/fandisk_ns.obj'\n",
    "\n",
    "tm_plane = trimesh.load_mesh(path_plane)\n",
    "tm_fandisk = trimesh.load_mesh(path_fandisk)\n",
    "\n",
    "\n",
    "smooth_plane = DiscreteCurvature(tm_plane)\n",
    "smooth_fandisk = DiscreteCurvature(tm_fandisk)"
   ]
  },
  {
   "cell_type": "code",
   "execution_count": 15,
   "metadata": {},
   "outputs": [],
   "source": [
    "plane_mesh = smooth_plane.tm2o3d(tm_plane)\n",
    "fandisk_mesh = smooth_fandisk.tm2o3d(tm_fandisk)\n",
    "o3d.visualization.draw_geometries([plane_mesh])\n",
    "o3d.visualization.draw_geometries([fandisk_mesh])"
   ]
  },
  {
   "cell_type": "code",
   "execution_count": 39,
   "metadata": {},
   "outputs": [
    {
     "name": "stdout",
     "output_type": "stream",
     "text": [
      "lambda: 0.001\n"
     ]
    }
   ],
   "source": [
    "plane_lam_list = [1e-7, 5e-7, 1e-6]\n",
    "for lam in plane_lam_list:\n",
    "    print(f'lambda: {lam}')\n",
    "    new_tm = smooth_plane.smooth(50, lam)\n",
    "\n",
    "    new_mesh = smooth_plane.tm2o3d(new_tm)\n",
    "    o3d.visualization.draw_geometries([new_mesh])"
   ]
  },
  {
   "cell_type": "code",
   "execution_count": 41,
   "metadata": {},
   "outputs": [
    {
     "name": "stdout",
     "output_type": "stream",
     "text": [
      "lambda: 0.001\n"
     ]
    }
   ],
   "source": [
    "fandisk_lam_list = [1e-5, 5e-5, 1e-4]\n",
    "for lam in fandisk_lam_list:\n",
    "    print(f'lambda: {lam}')\n",
    "    new_tm = smooth_fandisk.smooth(5, lam)\n",
    "\n",
    "    new_mesh = smooth_fandisk.tm2o3d(new_tm)\n",
    "    o3d.visualization.draw_geometries([new_mesh])"
   ]
  },
  {
   "attachments": {},
   "cell_type": "markdown",
   "metadata": {},
   "source": [
    "6. Implicit Laplacian Mesh Smoothing"
   ]
  },
  {
   "cell_type": "code",
   "execution_count": null,
   "metadata": {},
   "outputs": [],
   "source": [
    "plane_lam_list = [1e-7, 5e-7, 1e-6, 1e-5]\n",
    "iterations = [50, 100, 150]\n",
    "# Smoothing the plane object with different step size and iterations\n",
    "for lam in plane_lam_list:\n",
    "    for iter in iterations:\n",
    "        print(f'lambda: {lam} \\t iter: {iter}')\n",
    "        imp_tm = smooth_plane.smooth(iter, lam, 'implicit')\n",
    "\n",
    "        # convert result to o3d mesh\n",
    "        imp_mesh = smooth_plane.tm2o3d(imp_tm)\n",
    "        \n",
    "        print('Show implicit smoothing result')\n",
    "        o3d.visualization.draw_geometries([imp_mesh])"
   ]
  },
  {
   "cell_type": "code",
   "execution_count": 44,
   "metadata": {},
   "outputs": [
    {
     "name": "stdout",
     "output_type": "stream",
     "text": [
      "lambda: 0.01 \t iter: 50\n",
      "Show explict smoothing result\n",
      "lambda: 0.01 \t iter: 100\n",
      "Show explict smoothing result\n",
      "lambda: 0.01 \t iter: 150\n",
      "Show explict smoothing result\n"
     ]
    }
   ],
   "source": [
    "fandisk_lam_list = [1e-5, 5e-5, 1e-4, 1e-3]\n",
    "iterations = [50, 100, 150]\n",
    "# Smoothing the fandisk object with different step size and iterations\n",
    "for lam in fandisk_lam_list:\n",
    "    for iter in iterations:\n",
    "        print(f'lambda: {lam} \\t iter: {iter}')\n",
    "        imp_tm = smooth_fandisk.smooth(iter, lam, 'implicit')\n",
    "\n",
    "        # convert result to o3d mesh\n",
    "        imp_mesh = smooth_fandisk.tm2o3d(imp_tm)\n",
    "        \n",
    "        print('Show implicit smoothing result')\n",
    "        o3d.visualization.draw_geometries([imp_mesh])"
   ]
  },
  {
   "attachments": {},
   "cell_type": "markdown",
   "metadata": {},
   "source": [
    "7. Denosing"
   ]
  },
  {
   "cell_type": "code",
   "execution_count": 45,
   "metadata": {},
   "outputs": [],
   "source": [
    "path_bunny = '../data/meshes/bunny.obj'"
   ]
  },
  {
   "cell_type": "code",
   "execution_count": 70,
   "metadata": {},
   "outputs": [],
   "source": [
    "noise_scales = [0.005, 0.01, 0.05]\n",
    "for noise in noise_scales:\n",
    "    bunny_mesh = trimesh.load_mesh(path_bunny)\n",
    "    \n",
    "    denoise_bunny = DiscreteCurvature(bunny_mesh)\n",
    "    denoise_bunny.generate_noise(noise)\n",
    "\n",
    "    # Show the noisy object\n",
    "    mesh = denoise_bunny.tm2o3d(bunny_mesh)\n",
    "    o3d.visualization.draw_geometries([mesh])\n",
    "\n",
    "    # Smooth the object\n",
    "    # TODO Users can change the parameters to try different step size and iterations\n",
    "    smooth_tm = denoise_bunny.smooth(100, 1e-5, 'implicit')\n",
    "    imp_mesh = denoise_bunny.tm2o3d(smooth_tm)\n",
    "    o3d.visualization.draw_geometries([imp_mesh])"
   ]
  }
 ],
 "metadata": {
  "kernelspec": {
   "display_name": "base",
   "language": "python",
   "name": "python3"
  },
  "language_info": {
   "codemirror_mode": {
    "name": "ipython",
    "version": 3
   },
   "file_extension": ".py",
   "mimetype": "text/x-python",
   "name": "python",
   "nbconvert_exporter": "python",
   "pygments_lexer": "ipython3",
   "version": "3.9.12"
  },
  "orig_nbformat": 4
 },
 "nbformat": 4,
 "nbformat_minor": 2
}
